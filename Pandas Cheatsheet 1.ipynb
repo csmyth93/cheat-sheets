{
 "cells": [
  {
   "cell_type": "markdown",
   "metadata": {},
   "source": [
    "# Creating a Series\n",
    "\n",
    "There are a couple of ways of creating a series from scratch... lets explore"
   ]
  },
  {
   "cell_type": "code",
   "execution_count": 1,
   "metadata": {},
   "outputs": [],
   "source": [
    "import numpy as np\n",
    "import pandas as pd"
   ]
  },
  {
   "cell_type": "markdown",
   "metadata": {},
   "source": [
    "## Creating from a Dictionary\n",
    "\n",
    "Let's use the sample data we got from CashBox. They want to track the balance of their users. This is how much money each user currently has in their accounts. CashBox requires that users create a username. \n",
    "\n",
    "In our example, `test_balance_data` is just a standard Python dictionary; the key is the username and the balance is that users current account balance."
   ]
  },
  {
   "cell_type": "code",
   "execution_count": 2,
   "metadata": {},
   "outputs": [],
   "source": [
    "test_balance_data = {\n",
    "    'Callum':0.83,\n",
    "    'Brad':20.00,\n",
    "    'Matt': 35.00,\n",
    "    'Clem':55.00\n",
    "}"
   ]
  },
  {
   "cell_type": "markdown",
   "metadata": {},
   "source": [
    "The `Series` constructor accepts any dict-like object"
   ]
  },
  {
   "cell_type": "code",
   "execution_count": 3,
   "metadata": {},
   "outputs": [
    {
     "data": {
      "text/plain": [
       "Callum     0.83\n",
       "Brad      20.00\n",
       "Matt      35.00\n",
       "Clem      55.00\n",
       "dtype: float64"
      ]
     },
     "execution_count": 3,
     "metadata": {},
     "output_type": "execute_result"
    }
   ],
   "source": [
    "balances = pd.Series(test_balance_data)\n",
    "balances"
   ]
  },
  {
   "cell_type": "markdown",
   "metadata": {},
   "source": [
    "Notice that labels have been set from `test_balance_data.keys()` and the values are set from `tets_balances_data.values()`\n",
    "\n",
    "## Creating From an Iterable\n",
    "\n",
    "You can pass any iterable as as the first argument\n",
    "\n",
    "_NOTE_: If labels are not present they're defaulted to incremental integers starting at 0, but you can provide an index the same size as the iterable"
   ]
  },
  {
   "cell_type": "code",
   "execution_count": 4,
   "metadata": {},
   "outputs": [
    {
     "data": {
      "text/plain": [
       "(0     0.83\n",
       " 1    20.00\n",
       " 2    35.00\n",
       " 3    55.00\n",
       " dtype: float64, Callum     0.83\n",
       " Brad      20.00\n",
       " Matt      35.00\n",
       " Clem      55.00\n",
       " dtype: float64)"
      ]
     },
     "execution_count": 4,
     "metadata": {},
     "output_type": "execute_result"
    }
   ],
   "source": [
    "unlabeled_balances = pd.Series([0.83, 20.00, 35.00, 55.00])\n",
    "labeled_balances = pd.Series([0.83, 20.00, 35.00, 55.00],\n",
    "                            index = ['Callum', 'Brad', 'Matt', 'Clem'])\n",
    "# The order is maintened\n",
    "unlabeled_balances, labeled_balances"
   ]
  },
  {
   "cell_type": "markdown",
   "metadata": {},
   "source": [
    "## Creating from NumPy\n",
    "\n",
    "Series can also be made using ndarrays, in fact NumPy and Pandas play together very well."
   ]
  },
  {
   "cell_type": "code",
   "execution_count": 5,
   "metadata": {},
   "outputs": [
    {
     "data": {
      "text/plain": [
       "0     0.083\n",
       "1    20.000\n",
       "2    35.000\n",
       "3    55.000\n",
       "dtype: float64"
      ]
     },
     "execution_count": 5,
     "metadata": {},
     "output_type": "execute_result"
    }
   ],
   "source": [
    "\n",
    "ndbalances = np.array([0.083, 20.00, 35.00, 55.00])\n",
    "pd.Series(ndbalances)"
   ]
  },
  {
   "cell_type": "markdown",
   "metadata": {},
   "source": [
    "## Creating from a Scalar and an Index\n",
    "\n",
    "Another way is from a scalar (single value) which is then broadcasted and indexed. The index needs to explicitly stated using the `index` argument."
   ]
  },
  {
   "cell_type": "code",
   "execution_count": 6,
   "metadata": {},
   "outputs": [
    {
     "data": {
      "text/plain": [
       "Callum    42\n",
       " Brad     42\n",
       " Matt     42\n",
       "Clem      42\n",
       "dtype: int64"
      ]
     },
     "execution_count": 6,
     "metadata": {},
     "output_type": "execute_result"
    }
   ],
   "source": [
    "pd.Series(42, index = ['Callum', ' Brad', ' Matt', 'Clem'])"
   ]
  },
  {
   "cell_type": "markdown",
   "metadata": {},
   "source": [
    "# Accessing a Series\n",
    "\n",
    "There are multiple ways to get to data stored in your `Series`. Lets explore the __`balances`__ `Series`.\n",
    "\n",
    "The series `Series` is indexed by username. The label is the username and the values is that users cash balance. A `Series` is ordered and indexable... it is zero indexed. Data can also be accessed using dot notation"
   ]
  },
  {
   "cell_type": "code",
   "execution_count": 7,
   "metadata": {},
   "outputs": [
    {
     "data": {
      "text/plain": [
       "(0.83, 0.83, 0.83)"
      ]
     },
     "execution_count": 7,
     "metadata": {},
     "output_type": "execute_result"
    }
   ],
   "source": [
    "balances[0], balances['Callum'], balances.Callum"
   ]
  },
  {
   "cell_type": "markdown",
   "metadata": {},
   "source": [
    "Can also use slicers to access data. "
   ]
  },
  {
   "cell_type": "code",
   "execution_count": 8,
   "metadata": {},
   "outputs": [
    {
     "data": {
      "text/plain": [
       "(Callum     0.83\n",
       " Brad      20.00\n",
       " Matt      35.00\n",
       " dtype: float64, Matt    35.0\n",
       " Clem    55.0\n",
       " dtype: float64)"
      ]
     },
     "execution_count": 8,
     "metadata": {},
     "output_type": "execute_result"
    }
   ],
   "source": [
    "balances[0:3], balances['Matt':'Clem']"
   ]
  },
  {
   "cell_type": "markdown",
   "metadata": {},
   "source": [
    "# Series Vectorisation and Broadcasting\n",
    "\n",
    "Just like NumPy, Pandas offers powerful vectorised methods. It also leans on broadcasting.\n"
   ]
  },
  {
   "cell_type": "code",
   "execution_count": 9,
   "metadata": {},
   "outputs": [],
   "source": [
    "test_deposit_data = {\n",
    "    'Callum':100.00,\n",
    "    'Brad':0.00,\n",
    "    'Matt':30,\n",
    "    'Clem':25\n",
    "}\n",
    "deposits = pd.Series(test_deposit_data)"
   ]
  },
  {
   "cell_type": "markdown",
   "metadata": {},
   "source": [
    "## Vectorisation\n",
    "\n",
    "While it is possible to loop through each item and apply it to another..."
   ]
  },
  {
   "cell_type": "code",
   "execution_count": 10,
   "metadata": {},
   "outputs": [
    {
     "data": {
      "text/plain": [
       "Callum    100.83\n",
       "Brad       20.00\n",
       "Matt       65.00\n",
       "Clem       80.00\n",
       "dtype: float64"
      ]
     },
     "execution_count": 10,
     "metadata": {},
     "output_type": "execute_result"
    }
   ],
   "source": [
    "for label, value in deposits.iteritems():\n",
    "    balances[label] += value\n",
    "balances"
   ]
  },
  {
   "cell_type": "markdown",
   "metadata": {},
   "source": [
    "... its important to lean on vectorisations and skip the loops altogether. Vectorisation is faster and easier to read and write"
   ]
  },
  {
   "cell_type": "code",
   "execution_count": 11,
   "metadata": {},
   "outputs": [
    {
     "data": {
      "text/plain": [
       "Callum    100.83\n",
       "Brad       20.00\n",
       "Matt       65.00\n",
       "Clem       80.00\n",
       "dtype: float64"
      ]
     },
     "execution_count": 11,
     "metadata": {},
     "output_type": "execute_result"
    }
   ],
   "source": [
    "# undo the previous step \n",
    "balances -= deposits\n",
    "\n",
    "# this is the same as the as the above loop but utilising vectorisation\n",
    "balances += deposits\n",
    "balances"
   ]
  },
  {
   "cell_type": "markdown",
   "metadata": {},
   "source": [
    "## Broadcasting\n",
    "\n",
    "### Broadcasting a scalar\n",
    "Also just like NumPy arrays, the mathematical operators have been overwritten to use the vectorised versions of the same operation.\n"
   ]
  },
  {
   "cell_type": "code",
   "execution_count": 12,
   "metadata": {},
   "outputs": [
    {
     "data": {
      "text/plain": [
       "Callum    105.83\n",
       "Brad       25.00\n",
       "Matt       70.00\n",
       "Clem       85.00\n",
       "dtype: float64"
      ]
     },
     "execution_count": 12,
     "metadata": {},
     "output_type": "execute_result"
    }
   ],
   "source": [
    "balances + 5"
   ]
  },
  {
   "cell_type": "markdown",
   "metadata": {},
   "source": [
    "### Broadcasting a series\n",
    "\n",
    "Labels are used to line up series. When the label exists on one side but not the other a `np.nan` gets put in place. This can accidentally introduce NaN's\n",
    "\n",
    "Lets say Callum and Matt got a 10 quid voucher..."
   ]
  },
  {
   "cell_type": "code",
   "execution_count": 13,
   "metadata": {},
   "outputs": [
    {
     "data": {
      "text/plain": [
       "Brad         NaN\n",
       "Callum    110.83\n",
       "Clem         NaN\n",
       "Matt       75.00\n",
       "dtype: float64"
      ]
     },
     "execution_count": 13,
     "metadata": {},
     "output_type": "execute_result"
    }
   ],
   "source": [
    "vouchers = pd.Series(10, ['Callum', 'Matt'])\n",
    "balances + vouchers"
   ]
  },
  {
   "cell_type": "markdown",
   "metadata": {},
   "source": [
    "It is possible to use the `.add` method with `fill_value` to get around this"
   ]
  },
  {
   "cell_type": "code",
   "execution_count": 14,
   "metadata": {},
   "outputs": [
    {
     "data": {
      "text/plain": [
       "Brad       20.00\n",
       "Callum    110.83\n",
       "Clem       80.00\n",
       "Matt       75.00\n",
       "dtype: float64"
      ]
     },
     "execution_count": 14,
     "metadata": {},
     "output_type": "execute_result"
    }
   ],
   "source": [
    "balances.add(vouchers, fill_value = 0)"
   ]
  },
  {
   "cell_type": "markdown",
   "metadata": {},
   "source": [
    "## Creating a Dataframe\n",
    "\n",
    "There are a few ways to create a dataframe from existing objects. Lets explore them!\n",
    "\n",
    "### From a 2-Dimensional Object\n",
    "\n",
    "If the data is already in rows and columns, like a list of lists, you can just pass it along to the constructor. Label and Column headings will automatically be generated as a range."
   ]
  },
  {
   "cell_type": "code",
   "execution_count": 15,
   "metadata": {},
   "outputs": [
    {
     "data": {
      "text/html": [
       "<div>\n",
       "<style scoped>\n",
       "    .dataframe tbody tr th:only-of-type {\n",
       "        vertical-align: middle;\n",
       "    }\n",
       "\n",
       "    .dataframe tbody tr th {\n",
       "        vertical-align: top;\n",
       "    }\n",
       "\n",
       "    .dataframe thead th {\n",
       "        text-align: right;\n",
       "    }\n",
       "</style>\n",
       "<table border=\"1\" class=\"dataframe\">\n",
       "  <thead>\n",
       "    <tr style=\"text-align: right;\">\n",
       "      <th></th>\n",
       "      <th>0</th>\n",
       "      <th>1</th>\n",
       "      <th>2</th>\n",
       "    </tr>\n",
       "  </thead>\n",
       "  <tbody>\n",
       "    <tr>\n",
       "      <th>0</th>\n",
       "      <td>Callum</td>\n",
       "      <td>Smyth</td>\n",
       "      <td>1</td>\n",
       "    </tr>\n",
       "    <tr>\n",
       "      <th>1</th>\n",
       "      <td>Joe</td>\n",
       "      <td>Bloggs</td>\n",
       "      <td>2</td>\n",
       "    </tr>\n",
       "  </tbody>\n",
       "</table>\n",
       "</div>"
      ],
      "text/plain": [
       "        0       1  2\n",
       "0  Callum   Smyth  1\n",
       "1     Joe  Bloggs  2"
      ]
     },
     "execution_count": 15,
     "metadata": {},
     "output_type": "execute_result"
    }
   ],
   "source": [
    "test_user_list = [\n",
    "    ['Callum', 'Smyth', 1],\n",
    "    ['Joe', 'Bloggs', 2]\n",
    "]\n",
    "pd.DataFrame(test_user_list)"
   ]
  },
  {
   "cell_type": "markdown",
   "metadata": {},
   "source": [
    "If you don't want the index's to be autogenerated they can be explicitly stated as an arguement"
   ]
  },
  {
   "cell_type": "code",
   "execution_count": 16,
   "metadata": {},
   "outputs": [
    {
     "data": {
      "text/html": [
       "<div>\n",
       "<style scoped>\n",
       "    .dataframe tbody tr th:only-of-type {\n",
       "        vertical-align: middle;\n",
       "    }\n",
       "\n",
       "    .dataframe tbody tr th {\n",
       "        vertical-align: top;\n",
       "    }\n",
       "\n",
       "    .dataframe thead th {\n",
       "        text-align: right;\n",
       "    }\n",
       "</style>\n",
       "<table border=\"1\" class=\"dataframe\">\n",
       "  <thead>\n",
       "    <tr style=\"text-align: right;\">\n",
       "      <th></th>\n",
       "      <th>Fname</th>\n",
       "      <th>Lname</th>\n",
       "      <th>Number</th>\n",
       "    </tr>\n",
       "  </thead>\n",
       "  <tbody>\n",
       "    <tr>\n",
       "      <th>csmyth93</th>\n",
       "      <td>Callum</td>\n",
       "      <td>Smyth</td>\n",
       "      <td>1</td>\n",
       "    </tr>\n",
       "    <tr>\n",
       "      <th>jbloggs42</th>\n",
       "      <td>Joe</td>\n",
       "      <td>Bloggs</td>\n",
       "      <td>2</td>\n",
       "    </tr>\n",
       "  </tbody>\n",
       "</table>\n",
       "</div>"
      ],
      "text/plain": [
       "            Fname   Lname  Number\n",
       "csmyth93   Callum   Smyth       1\n",
       "jbloggs42     Joe  Bloggs       2"
      ]
     },
     "execution_count": 16,
     "metadata": {},
     "output_type": "execute_result"
    }
   ],
   "source": [
    "pd.DataFrame(test_user_list, index = ['csmyth93', 'jbloggs42'],\n",
    "            columns = ['Fname', 'Lname', 'Number'])"
   ]
  },
  {
   "cell_type": "markdown",
   "metadata": {},
   "source": [
    "### From a Dictionary\n",
    "\n",
    "DataFrames can also be generated from dictionary's"
   ]
  },
  {
   "cell_type": "code",
   "execution_count": 17,
   "metadata": {},
   "outputs": [
    {
     "data": {
      "text/html": [
       "<div>\n",
       "<style scoped>\n",
       "    .dataframe tbody tr th:only-of-type {\n",
       "        vertical-align: middle;\n",
       "    }\n",
       "\n",
       "    .dataframe tbody tr th {\n",
       "        vertical-align: top;\n",
       "    }\n",
       "\n",
       "    .dataframe thead th {\n",
       "        text-align: right;\n",
       "    }\n",
       "</style>\n",
       "<table border=\"1\" class=\"dataframe\">\n",
       "  <thead>\n",
       "    <tr style=\"text-align: right;\">\n",
       "      <th></th>\n",
       "      <th>Fname</th>\n",
       "      <th>Lname</th>\n",
       "      <th>Number</th>\n",
       "    </tr>\n",
       "  </thead>\n",
       "  <tbody>\n",
       "    <tr>\n",
       "      <th>0</th>\n",
       "      <td>Callum</td>\n",
       "      <td>Smyth</td>\n",
       "      <td>1</td>\n",
       "    </tr>\n",
       "    <tr>\n",
       "      <th>1</th>\n",
       "      <td>Joe</td>\n",
       "      <td>Bloggs</td>\n",
       "      <td>2</td>\n",
       "    </tr>\n",
       "  </tbody>\n",
       "</table>\n",
       "</div>"
      ],
      "text/plain": [
       "    Fname   Lname  Number\n",
       "0  Callum   Smyth       1\n",
       "1     Joe  Bloggs       2"
      ]
     },
     "execution_count": 17,
     "metadata": {},
     "output_type": "execute_result"
    }
   ],
   "source": [
    "test_user_data = {\n",
    "    'Fname':['Callum', 'Joe'],\n",
    "    'Lname':['Smyth', 'Bloggs'],\n",
    "    'Number': [1,2]\n",
    "}\n",
    "pd.DataFrame(test_user_data)"
   ]
  },
  {
   "cell_type": "markdown",
   "metadata": {},
   "source": [
    "The index can also be specified like creating a DataFrame from a list of lists"
   ]
  },
  {
   "cell_type": "code",
   "execution_count": 18,
   "metadata": {},
   "outputs": [
    {
     "data": {
      "text/html": [
       "<div>\n",
       "<style scoped>\n",
       "    .dataframe tbody tr th:only-of-type {\n",
       "        vertical-align: middle;\n",
       "    }\n",
       "\n",
       "    .dataframe tbody tr th {\n",
       "        vertical-align: top;\n",
       "    }\n",
       "\n",
       "    .dataframe thead th {\n",
       "        text-align: right;\n",
       "    }\n",
       "</style>\n",
       "<table border=\"1\" class=\"dataframe\">\n",
       "  <thead>\n",
       "    <tr style=\"text-align: right;\">\n",
       "      <th></th>\n",
       "      <th>Fname</th>\n",
       "      <th>Lname</th>\n",
       "      <th>Number</th>\n",
       "    </tr>\n",
       "  </thead>\n",
       "  <tbody>\n",
       "    <tr>\n",
       "      <th>csmyth93</th>\n",
       "      <td>Callum</td>\n",
       "      <td>Smyth</td>\n",
       "      <td>1</td>\n",
       "    </tr>\n",
       "    <tr>\n",
       "      <th>jbloggs42</th>\n",
       "      <td>Joe</td>\n",
       "      <td>Bloggs</td>\n",
       "      <td>2</td>\n",
       "    </tr>\n",
       "  </tbody>\n",
       "</table>\n",
       "</div>"
      ],
      "text/plain": [
       "            Fname   Lname  Number\n",
       "csmyth93   Callum   Smyth       1\n",
       "jbloggs42     Joe  Bloggs       2"
      ]
     },
     "execution_count": 18,
     "metadata": {},
     "output_type": "execute_result"
    }
   ],
   "source": [
    "test_user_data = {\n",
    "    'Fname':['Callum', 'Joe'],\n",
    "    'Lname':['Smyth', 'Bloggs'],\n",
    "    'Number': [1,2]\n",
    "}\n",
    "pd.DataFrame(test_user_data, index = [\"csmyth93\", \"jbloggs42\"])"
   ]
  },
  {
   "cell_type": "markdown",
   "metadata": {},
   "source": [
    "### DataFrame.from_dict adds more options\n",
    "\n",
    "__The `orient` keyword__\n",
    "\n",
    "The orient keyword allows you to specify whether the keys of you dictionary are part of the labels (`index`) or the column titles (`columns`). Note how the nested dictionaries have been used to define the columns. You can also pass a list to the `columns`"
   ]
  },
  {
   "cell_type": "code",
   "execution_count": 19,
   "metadata": {},
   "outputs": [
    {
     "data": {
      "text/html": [
       "<div>\n",
       "<style scoped>\n",
       "    .dataframe tbody tr th:only-of-type {\n",
       "        vertical-align: middle;\n",
       "    }\n",
       "\n",
       "    .dataframe tbody tr th {\n",
       "        vertical-align: top;\n",
       "    }\n",
       "\n",
       "    .dataframe thead th {\n",
       "        text-align: right;\n",
       "    }\n",
       "</style>\n",
       "<table border=\"1\" class=\"dataframe\">\n",
       "  <thead>\n",
       "    <tr style=\"text-align: right;\">\n",
       "      <th></th>\n",
       "      <th>Fname</th>\n",
       "      <th>Lname</th>\n",
       "      <th>Number</th>\n",
       "    </tr>\n",
       "  </thead>\n",
       "  <tbody>\n",
       "    <tr>\n",
       "      <th>csmyth93</th>\n",
       "      <td>Callum</td>\n",
       "      <td>Smyth</td>\n",
       "      <td>1</td>\n",
       "    </tr>\n",
       "    <tr>\n",
       "      <th>jbloggs42</th>\n",
       "      <td>Joe</td>\n",
       "      <td>Bloggs</td>\n",
       "      <td>42</td>\n",
       "    </tr>\n",
       "    <tr>\n",
       "      <th>rsmythster</th>\n",
       "      <td>Robert</td>\n",
       "      <td>Smyth</td>\n",
       "      <td>66</td>\n",
       "    </tr>\n",
       "  </tbody>\n",
       "</table>\n",
       "</div>"
      ],
      "text/plain": [
       "             Fname   Lname  Number\n",
       "csmyth93    Callum   Smyth       1\n",
       "jbloggs42      Joe  Bloggs      42\n",
       "rsmythster  Robert   Smyth      66"
      ]
     },
     "execution_count": 19,
     "metadata": {},
     "output_type": "execute_result"
    }
   ],
   "source": [
    "by_username = {\n",
    "    'csmyth93' : {\n",
    "        'Fname' : 'Callum',\n",
    "        'Lname' : 'Smyth',\n",
    "        'Number' : 1\n",
    "    },\n",
    "    'jbloggs42' : {\n",
    "        'Fname' : 'Joe',\n",
    "        'Lname' : 'Bloggs',\n",
    "        'Number' : 42\n",
    "    },\n",
    "    'rsmythster':{\n",
    "        'Fname' : 'Robert',\n",
    "        'Lname' : 'Smyth',\n",
    "        'Number' : 66\n",
    "    }\n",
    "}\n",
    "pd.DataFrame.from_dict(by_username, orient = 'index')"
   ]
  },
  {
   "cell_type": "markdown",
   "metadata": {},
   "source": [
    "## Accessing a DataFrame\n",
    "\n",
    "There are many different choices for indexing DataFrames (a lot are similar to R)\n",
    "\n",
    "First lets get a DataFrame object..."
   ]
  },
  {
   "cell_type": "code",
   "execution_count": 20,
   "metadata": {},
   "outputs": [],
   "source": [
    "users = pd.DataFrame.from_dict(by_username, orient = 'index')"
   ]
  },
  {
   "cell_type": "markdown",
   "metadata": {},
   "source": [
    "### Retrieve a Specfic Series\n",
    "\n",
    "#### By Column Name\n",
    "\n",
    "Each column in a `DataFrame` is actually a `Series`. The `DataFrame` provides access to each of these `Series` by a column name index. For instance we can select the `Fname` `Series`. This method also returns the name of the series"
   ]
  },
  {
   "cell_type": "code",
   "execution_count": 21,
   "metadata": {},
   "outputs": [
    {
     "data": {
      "text/plain": [
       "csmyth93      Callum\n",
       "jbloggs42        Joe\n",
       "rsmythster    Robert\n",
       "Name: Fname, dtype: object"
      ]
     },
     "execution_count": 21,
     "metadata": {},
     "output_type": "execute_result"
    }
   ],
   "source": [
    "Fnames = users['Fname']\n",
    "Fnames"
   ]
  },
  {
   "cell_type": "markdown",
   "metadata": {},
   "source": [
    "#### By Label\n",
    "\n",
    "You can retrieve a row by using the `loc` property and supplying the label. Note how the returned `Series` is labelled by the existing column labels "
   ]
  },
  {
   "cell_type": "code",
   "execution_count": 22,
   "metadata": {},
   "outputs": [
    {
     "data": {
      "text/plain": [
       "Fname     Callum\n",
       "Lname      Smyth\n",
       "Number         1\n",
       "Name: csmyth93, dtype: object"
      ]
     },
     "execution_count": 22,
     "metadata": {},
     "output_type": "execute_result"
    }
   ],
   "source": [
    "users.loc['csmyth93']"
   ]
  },
  {
   "cell_type": "markdown",
   "metadata": {},
   "source": [
    "#### By Location\n",
    "\n",
    "Normal list like indices are also available to get a specific row row by using the `iloc` (`i`ndex `loc`ation) property and the appropiate index.  "
   ]
  },
  {
   "cell_type": "code",
   "execution_count": 23,
   "metadata": {},
   "outputs": [
    {
     "data": {
      "text/plain": [
       "Fname     Callum\n",
       "Lname      Smyth\n",
       "Number         1\n",
       "Name: csmyth93, dtype: object"
      ]
     },
     "execution_count": 23,
     "metadata": {},
     "output_type": "execute_result"
    }
   ],
   "source": [
    "users.iloc[0]"
   ]
  },
  {
   "cell_type": "markdown",
   "metadata": {},
   "source": [
    "#### By Row and Column\n",
    "\n",
    "The DataFrame allows access to a specific columns by using a co-ordinate like system. We can use `DataFrame.loc()` to index by creating a tuple. To be more explicit we can also use the `DataFrame.at()` method."
   ]
  },
  {
   "cell_type": "code",
   "execution_count": 24,
   "metadata": {},
   "outputs": [
    {
     "data": {
      "text/plain": [
       "('Callum', 'Callum')"
      ]
     },
     "execution_count": 24,
     "metadata": {},
     "output_type": "execute_result"
    }
   ],
   "source": [
    "users.loc['csmyth93', 'Fname'], users.at['csmyth93', 'Fname']"
   ]
  },
  {
   "cell_type": "markdown",
   "metadata": {},
   "source": [
    "## Retrieve a Specific DataFrame Through Slicing\n",
    "\n",
    "Using both `loc` and `iloc` we can slice the existing `DataFrame` into a new one. \n",
    "\n",
    "In the first example we use `:` in the rows axis to select all rows, and we specify which columns we want back using a list in the columns axis (similar to NumPy fancy indexing)\n",
    "\n",
    "When using a slice with `loc` we have to remember the results are inclusive, meaning they include the right side. \n",
    "\n",
    "When using a slice with `iloc` we have to remember the results are exclusive, like standard Python lists."
   ]
  },
  {
   "cell_type": "code",
   "execution_count": 31,
   "metadata": {},
   "outputs": [
    {
     "data": {
      "text/html": [
       "<div>\n",
       "<style scoped>\n",
       "    .dataframe tbody tr th:only-of-type {\n",
       "        vertical-align: middle;\n",
       "    }\n",
       "\n",
       "    .dataframe tbody tr th {\n",
       "        vertical-align: top;\n",
       "    }\n",
       "\n",
       "    .dataframe thead th {\n",
       "        text-align: right;\n",
       "    }\n",
       "</style>\n",
       "<table border=\"1\" class=\"dataframe\">\n",
       "  <thead>\n",
       "    <tr style=\"text-align: right;\">\n",
       "      <th></th>\n",
       "      <th>Fname</th>\n",
       "      <th>Lname</th>\n",
       "    </tr>\n",
       "  </thead>\n",
       "  <tbody>\n",
       "    <tr>\n",
       "      <th>csmyth93</th>\n",
       "      <td>Callum</td>\n",
       "      <td>Smyth</td>\n",
       "    </tr>\n",
       "    <tr>\n",
       "      <th>jbloggs42</th>\n",
       "      <td>Joe</td>\n",
       "      <td>Bloggs</td>\n",
       "    </tr>\n",
       "    <tr>\n",
       "      <th>rsmythster</th>\n",
       "      <td>Robert</td>\n",
       "      <td>Smyth</td>\n",
       "    </tr>\n",
       "  </tbody>\n",
       "</table>\n",
       "</div>"
      ],
      "text/plain": [
       "             Fname   Lname\n",
       "csmyth93    Callum   Smyth\n",
       "jbloggs42      Joe  Bloggs\n",
       "rsmythster  Robert   Smyth"
      ]
     },
     "execution_count": 31,
     "metadata": {},
     "output_type": "execute_result"
    }
   ],
   "source": [
    "users.loc[:, ['Fname', 'Lname']]"
   ]
  },
  {
   "cell_type": "code",
   "execution_count": 30,
   "metadata": {},
   "outputs": [
    {
     "data": {
      "text/html": [
       "<div>\n",
       "<style scoped>\n",
       "    .dataframe tbody tr th:only-of-type {\n",
       "        vertical-align: middle;\n",
       "    }\n",
       "\n",
       "    .dataframe tbody tr th {\n",
       "        vertical-align: top;\n",
       "    }\n",
       "\n",
       "    .dataframe thead th {\n",
       "        text-align: right;\n",
       "    }\n",
       "</style>\n",
       "<table border=\"1\" class=\"dataframe\">\n",
       "  <thead>\n",
       "    <tr style=\"text-align: right;\">\n",
       "      <th></th>\n",
       "      <th>Fname</th>\n",
       "      <th>Lname</th>\n",
       "      <th>Number</th>\n",
       "    </tr>\n",
       "  </thead>\n",
       "  <tbody>\n",
       "    <tr>\n",
       "      <th>csmyth93</th>\n",
       "      <td>Callum</td>\n",
       "      <td>Smyth</td>\n",
       "      <td>1</td>\n",
       "    </tr>\n",
       "    <tr>\n",
       "      <th>jbloggs42</th>\n",
       "      <td>Joe</td>\n",
       "      <td>Bloggs</td>\n",
       "      <td>42</td>\n",
       "    </tr>\n",
       "  </tbody>\n",
       "</table>\n",
       "</div>"
      ],
      "text/plain": [
       "            Fname   Lname  Number\n",
       "csmyth93   Callum   Smyth       1\n",
       "jbloggs42     Joe  Bloggs      42"
      ]
     },
     "execution_count": 30,
     "metadata": {},
     "output_type": "execute_result"
    }
   ],
   "source": [
    "users.loc['csmyth93':'rsmyther', :]"
   ]
  },
  {
   "cell_type": "code",
   "execution_count": 35,
   "metadata": {},
   "outputs": [
    {
     "data": {
      "text/html": [
       "<div>\n",
       "<style scoped>\n",
       "    .dataframe tbody tr th:only-of-type {\n",
       "        vertical-align: middle;\n",
       "    }\n",
       "\n",
       "    .dataframe tbody tr th {\n",
       "        vertical-align: top;\n",
       "    }\n",
       "\n",
       "    .dataframe thead th {\n",
       "        text-align: right;\n",
       "    }\n",
       "</style>\n",
       "<table border=\"1\" class=\"dataframe\">\n",
       "  <thead>\n",
       "    <tr style=\"text-align: right;\">\n",
       "      <th></th>\n",
       "      <th>Fname</th>\n",
       "      <th>Lname</th>\n",
       "      <th>Number</th>\n",
       "    </tr>\n",
       "  </thead>\n",
       "  <tbody>\n",
       "    <tr>\n",
       "      <th>csmyth93</th>\n",
       "      <td>Callum</td>\n",
       "      <td>Smyth</td>\n",
       "      <td>1</td>\n",
       "    </tr>\n",
       "    <tr>\n",
       "      <th>jbloggs42</th>\n",
       "      <td>Joe</td>\n",
       "      <td>Bloggs</td>\n",
       "      <td>42</td>\n",
       "    </tr>\n",
       "  </tbody>\n",
       "</table>\n",
       "</div>"
      ],
      "text/plain": [
       "            Fname   Lname  Number\n",
       "csmyth93   Callum   Smyth       1\n",
       "jbloggs42     Joe  Bloggs      42"
      ]
     },
     "execution_count": 35,
     "metadata": {},
     "output_type": "execute_result"
    }
   ],
   "source": [
    "users.iloc[0:2, :]"
   ]
  }
 ],
 "metadata": {
  "kernelspec": {
   "display_name": "Python 3",
   "language": "python",
   "name": "python3"
  },
  "language_info": {
   "codemirror_mode": {
    "name": "ipython",
    "version": 3
   },
   "file_extension": ".py",
   "mimetype": "text/x-python",
   "name": "python",
   "nbconvert_exporter": "python",
   "pygments_lexer": "ipython3",
   "version": "3.7.1"
  }
 },
 "nbformat": 4,
 "nbformat_minor": 2
}
