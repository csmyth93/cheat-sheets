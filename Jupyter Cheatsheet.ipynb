{
 "cells": [
  {
   "cell_type": "markdown",
   "metadata": {},
   "source": [
    "# Jupyter Cheatsheet \n",
    "\n",
    "#### __Callum Smyth__"
   ]
  },
  {
   "cell_type": "markdown",
   "metadata": {},
   "source": [
    "## Dependencies\n",
    "\n",
    "For this the package `rpy2` needs to be installed via the anaconda prompt"
   ]
  },
  {
   "cell_type": "code",
   "execution_count": 29,
   "metadata": {},
   "outputs": [],
   "source": [
    "import rpy2.rinterface\n",
    "import pandas as pd\n",
    "import numpy as np"
   ]
  },
  {
   "cell_type": "markdown",
   "metadata": {},
   "source": [
    "## Using R Withing a Python 3 Notebook\n",
    "\n",
    "### Initialising an R instance "
   ]
  },
  {
   "cell_type": "code",
   "execution_count": 3,
   "metadata": {},
   "outputs": [],
   "source": [
    "%load_ext rpy2.ipython\n",
    "# This only has to be ran once per notebook load"
   ]
  },
  {
   "cell_type": "markdown",
   "metadata": {},
   "source": [
    "Now that the instance is initialised, putting the magic command __%%R__ at the top of a code cell will allow you to write R code in a Python book."
   ]
  },
  {
   "cell_type": "code",
   "execution_count": 6,
   "metadata": {},
   "outputs": [
    {
     "data": {
      "image/png": "[encoded data removed]"
     },
     "metadata": {},
     "output_type": "display_data"
    }
   ],
   "source": [
    "%%R\n",
    "# ^ this is the magic command so this cell is in R code\n",
    "\n",
    "# Dependencies\n",
    "library(ggplot2)\n",
    "\n",
    "# simple R code to show it is working\n",
    "x <- c(1:5)\n",
    "y <- c(1:5)\n",
    "qplot(x,y)"
   ]
  },
  {
   "cell_type": "markdown",
   "metadata": {},
   "source": [
    "### Passing Objects Between Python and R\n",
    "\n",
    "The `rpy2` interface allows us to pass objects between both Python and R allowing for better analysis. An object listed after __-i__ on the __%%R__ magic command line will import that object, and an object listed after __-o__ on the __%%R__ magic command line will be outputted and available in Python."
   ]
  },
  {
   "cell_type": "code",
   "execution_count": 15,
   "metadata": {},
   "outputs": [
    {
     "name": "stdout",
     "output_type": "stream",
     "text": [
      "   A  B\n",
      "0  1  1\n",
      "1  2  2\n",
      "2  3  3\n",
      "3  4  4\n",
      "4  5  5\n"
     ]
    }
   ],
   "source": [
    "# Create a simple DataFrame in Python\n",
    "python_df = pd.DataFrame({'A':range(1,6,1),\n",
    "                         'B':range(1,6,1)})\n",
    "print(python_df)"
   ]
  },
  {
   "cell_type": "code",
   "execution_count": 16,
   "metadata": {},
   "outputs": [
    {
     "data": {
      "image/png": "[encoded data removed]"
     },
     "metadata": {},
     "output_type": "display_data"
    }
   ],
   "source": [
    "%%R -i python_df\n",
    "# ^ importing the DataFrame into the R instance\n",
    "\n",
    "# Plotting the Python DataFrame in R\n",
    "qplot(python_df$A, python_df$B)"
   ]
  },
  {
   "cell_type": "code",
   "execution_count": 18,
   "metadata": {},
   "outputs": [],
   "source": [
    "%%R -o model -o coef\n",
    "# Outputting model and coef from R to Python\n",
    "\n",
    "# Creating a linear regression model\n",
    "model <- lm(B ~ A, data = python_df)\n",
    "coef <- model$coefficients"
   ]
  },
  {
   "cell_type": "code",
   "execution_count": 21,
   "metadata": {},
   "outputs": [
    {
     "name": "stdout",
     "output_type": "stream",
     "text": [
      "\n",
      "\r\n",
      "Call:\n",
      "\r\n",
      "lm(formula = B ~ A, data = python_df)\n",
      "\r\n",
      "\n",
      "\r\n",
      "Coefficients:\n",
      "\r\n",
      "(Intercept)            A  \n",
      "\r\n",
      "  3.972e-16    1.000e+00  \n",
      "\r\n",
      "\n",
      "\n",
      " (Intercept)            A \n",
      "\r\n",
      "3.972055e-16 1.000000e+00 \n",
      "\n"
     ]
    }
   ],
   "source": [
    "print(model); print(coef)"
   ]
  },
  {
   "cell_type": "markdown",
   "metadata": {},
   "source": [
    "An alternative method is to use the magic functions __%Rpush__ and __%Rget__"
   ]
  },
  {
   "cell_type": "code",
   "execution_count": 22,
   "metadata": {},
   "outputs": [],
   "source": [
    "%%R\n",
    "# Creating simple R dataframe\n",
    "library(datasets)\n",
    "cars <- head(cars, 5)"
   ]
  },
  {
   "cell_type": "code",
   "execution_count": 24,
   "metadata": {},
   "outputs": [
    {
     "name": "stdout",
     "output_type": "stream",
     "text": [
      "   speed  dist\n",
      "1    4.0   2.0\n",
      "2    4.0  10.0\n",
      "3    7.0   4.0\n",
      "4    7.0  22.0\n",
      "5    8.0  16.0\n"
     ]
    }
   ],
   "source": [
    "# Requesting object from R instance\n",
    "python_cars = %Rget cars\n",
    "print(python_cars)"
   ]
  },
  {
   "cell_type": "code",
   "execution_count": 25,
   "metadata": {},
   "outputs": [],
   "source": [
    "# Create some arbitary data to be passed through\n",
    "python_x = np.array([1, 2, 3, 4, 5])\n",
    "python_y = np.array([1, 2, 3, 4,5 ])\n",
    "\n",
    "# Pushing the data through to R\n",
    "%Rpush python_x python_y"
   ]
  },
  {
   "cell_type": "code",
   "execution_count": 27,
   "metadata": {},
   "outputs": [
    {
     "data": {
      "image/png": "[encoded data removed]"
     },
     "metadata": {},
     "output_type": "display_data"
    }
   ],
   "source": [
    "%%R\n",
    "# ^ make sure this is an R instance\n",
    "qplot(python_x, python_y)"
   ]
  },
  {
   "cell_type": "markdown",
   "metadata": {},
   "source": [
    "## Markdown Shortcuts and Formatting"
   ]
  },
  {
   "cell_type": "markdown",
   "metadata": {},
   "source": [
    "__Headings:__ Use `#`'s followed by a blank space for titles and headings<br>\n",
    "`#` title<br>\n",
    "`##` major headings<br>\n",
    "`###` minor headings<br>\n",
    "`####` subheadings<br>\n",
    "\n",
    "__Emphasis:__ For bold use double underscore or asterisk. For italic single underscore or asterisk<br>\n",
    "`__string__` or `**string**` **bold**<br>\n",
    "`_string_` or `*string*` *italic*<br>\n",
    "\n",
    "__Mathematical Symbols:__ __[check here for examples](https://jupyter-notebook.readthedocs.io/en/stable/examples/Notebook/Typesetting%20Equations.html)__<br>\n",
    "Jupter can display mathematical notation, for instance:<br>\n",
    "<br>\n",
    "\\begin{equation*}\n",
    "1 +  \\frac{q^2}{(1-q)}+\\frac{q^6}{(1-q)(1-q^2)}+\\cdots =\n",
    "\\prod_{j=0}^{\\infty}\\frac{1}{(1-q^{5j+2})(1-q^{5j+3})},\n",
    "\\quad\\quad \\text{for $|q|<1$}.\n",
    "\\end{equation*}<br>\n",
    "<br>\n",
    "__Line Breaks:__ Line breaks can be included using either the `<br>` tag or a double space<br>\n",
    "<br>\n",
    "__Monospace Font:__ This is for highlighting code, filepaths, filenames etc in markdown. Enclose the text with single backticks from the top left of the keyboard <br>\n",
    "<br>\n",
    "__Colours:__ Use this code: `<font color=blue|red|green|pink|yellow>Text</font>` but only select one colour from the list and replace `Text`<br> \n",
    "<font color=red>Red</font> is my favourite <font color=green>colour</font> <br>\n",
    "<br>\n",
    "__Bullet Points:__ Use the dash (`-`) or asterisk (`*`) sign followed by two space after it to create a bullet point. To create a sub bullet use a tab followed by a dash and two spaces<br>\n",
    "- Bullet<br>\n",
    "    - sub-bullet<br>\n",
    "        - sub-sub-bullet<br>\n",
    "            - etc <br>\n",
    "\n",
    "__Numbered Lists:__ Start with `1.` followed by a space and then carry on using 1. and it will automatically number it. Use tab to indent for sublists<br>\n",
    "1.  my list<br>\n",
    "1.  my list 2\n",
    "    1. sub-list\n",
    "        1. sub-sub list\n",
    "            1. etc.<br>\n",
    "            \n",
    "__Graphics:__ Image files can attached to the notebook directly from a local drive only in the markdown cells. For code cells  you can only use cells hosted on the web. Captions can not be added at this time. Use this code: `<img src=\"url.gif\" alt=\"Alt text that describes the graphic\" title=\"Title text\" />` \n",
    "<img src=\"C:\\Users\\CSmyth\\Pictures\\hackerman.gif\" alt=\"git gud\" title=\"\" /> <br>\n",
    "<br>\n",
    "__Internal Links:__ To link a section within the notebook use this code: `[section title](#section title)` make sure to check the links all work. This will also encourage the following of best practice for notebook writing.<br>\n",
    "[link to top](#Jupyter-Cheatsheet)<br>\n",
    "Alternatively, you can add an ID for a section right above the cell. This cell will also be invisble. This is useful when linking to a specific code chunk. Use the following code for the __tag__ `<a id=\"section_ID\"></a>` and the following for the __link__ `[section title](#section_ID)` make sure all links are checked<br>\n",
    "<br>\n",
    "__External Links:__ Use the following and remember to test all links! `__[link text](http://url)__`\n"
   ]
  },
  {
   "cell_type": "markdown",
   "metadata": {},
   "source": [
    "## Version Control\n",
    "\n",
    "V1: 25/01/2019 : Initial commit"
   ]
  }
 ],
 "metadata": {
  "kernelspec": {
   "display_name": "Python 3",
   "language": "python",
   "name": "python3"
  },
  "language_info": {
   "codemirror_mode": {
    "name": "ipython",
    "version": 3
   },
   "file_extension": ".py",
   "mimetype": "text/x-python",
   "name": "python",
   "nbconvert_exporter": "python",
   "pygments_lexer": "ipython3",
   "version": "3.6.7"
  },
  "varInspector": {
   "cols": {
    "lenName": 16,
    "lenType": 16,
    "lenVar": 40
   },
   "kernels_config": {
    "python": {
     "delete_cmd_postfix": "",
     "delete_cmd_prefix": "del ",
     "library": "var_list.py",
     "varRefreshCmd": "print(var_dic_list())"
    },
    "r": {
     "delete_cmd_postfix": ") ",
     "delete_cmd_prefix": "rm(",
     "library": "var_list.r",
     "varRefreshCmd": "cat(var_dic_list()) "
    }
   },
   "types_to_exclude": [
    "module",
    "function",
    "builtin_function_or_method",
    "instance",
    "_Feature"
   ],
   "window_display": false
  }
 },
 "nbformat": 4,
 "nbformat_minor": 2
}
